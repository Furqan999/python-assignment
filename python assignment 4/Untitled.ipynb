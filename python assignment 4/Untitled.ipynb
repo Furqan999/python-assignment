{
 "cells": [
  {
   "cell_type": "code",
   "execution_count": 7,
   "metadata": {},
   "outputs": [
    {
     "name": "stdout",
     "output_type": "stream",
     "text": [
      "Print the Entrie information of dictionary\n",
      "first_name: Furqan\n",
      "last_name: Nazir\n",
      "age: 21\n",
      "city: Karachi\n"
     ]
    }
   ],
   "source": [
    "\"\"\"\"Question1: Use a dictionary to store information about a person you know. Store their first name, last name, age,\n",
    "and the city in which they live. You should have keys such as first_name, last_name, age, and city. Print each piece of\n",
    "information stored in your dictionary. Add a new key value pair about qualification then update the qualification value\n",
    "to high academic level then delete it.?\"\"\"\n",
    "\n",
    "Person = {\"first_name\" : \"Furqan\", \"last_name\" : \"Nazir\", \"age\" : \"21\", \"city\" : \"Karachi\"}\n",
    "print(\"Print the Entrie information of dictionary\")\n",
    "for key,value in Person.items():\n",
    "    print(key + \": \" + value)\n",
    "    "
   ]
  },
  {
   "cell_type": "code",
   "execution_count": 9,
   "metadata": {},
   "outputs": [
    {
     "name": "stdout",
     "output_type": "stream",
     "text": [
      "first_name: Furqan\n",
      "last_name: Nazir\n",
      "age: 21\n",
      "city: Karachi\n",
      "qualification: Intermediate\n"
     ]
    }
   ],
   "source": [
    "\"\"\"Add a new key value pair in the person dictionary\"\"\"\n",
    "\n",
    "Person[\"qualification\"] = \"Intermediate\"\n",
    "\n",
    "for key,value in Person.items():\n",
    "    print(key + \": \" + value)\n",
    "    "
   ]
  },
  {
   "cell_type": "code",
   "execution_count": 12,
   "metadata": {},
   "outputs": [
    {
     "name": "stdout",
     "output_type": "stream",
     "text": [
      "first_name: Furqan\n",
      "last_name: Nazir\n",
      "age: 21\n",
      "city: Karachi\n",
      "qualification: graduate\n"
     ]
    }
   ],
   "source": [
    "\"\"\"update the qualification to high level accademic \"\"\"\n",
    "Person[\"qualification\"] = \"graduate\"\n",
    "\n",
    "for key,value in Person.items():\n",
    "    print(key + \": \" + value)"
   ]
  },
  {
   "cell_type": "code",
   "execution_count": 11,
   "metadata": {},
   "outputs": [
    {
     "name": "stdout",
     "output_type": "stream",
     "text": [
      "first_name: Furqan\n",
      "last_name: Nazir\n",
      "age: 21\n",
      "city: Karachi\n"
     ]
    }
   ],
   "source": [
    "\"\"\"delete qualification pair from dictionary and print it\"\"\"\n",
    "del Person[\"qualification\"]\n",
    "for key,value in Person.items():\n",
    "    print(key + \": \" + value)"
   ]
  },
  {
   "cell_type": "code",
   "execution_count": 1,
   "metadata": {},
   "outputs": [
    {
     "name": "stdout",
     "output_type": "stream",
     "text": [
      "\n",
      "City: SHANGHAI\n",
      "\tCountry: china\n",
      "\tPopulation: 24,183,300\n",
      "\tFact: It is the second largest city in the world by city population.\n",
      "\n",
      "City: ISTANBUL\n",
      "\tCountry: Turkey\n",
      "\tPopulation: 15,029,231\n",
      "\tFact: It is the fourth largest city in the world\n",
      "\n",
      "City: KARACHI\n",
      "\tCountry: Pakistan\n",
      "\tPopulation: 14,910,352\n",
      "\tFact: it is the fifth largest city in the world and known as city of lights\n"
     ]
    }
   ],
   "source": [
    "\"\"\"Question2: Make a dictionary called cities. Use the names of three cities as keys in your dictionary. Create a\n",
    "dictionary of information about each city and include the country that the city is in, its approximate population,\n",
    "and one fact about that city. The keys for each city’s dictionary should be something like country, population, and fact.\n",
    "Print the name of each city and all of the information you have stored about it?\"\"\"\n",
    "\n",
    "cities = {\n",
    "    \"shanghai\" : {\n",
    "        \"Country\" : \"china\",\n",
    "        \"Population\" : \"24,183,300\",\n",
    "        \"Fact\" : \"It is the second largest city in the world by city population.\"\n",
    "    }, \n",
    "    \"Istanbul\" : {\n",
    "        \"Country\" : \"Turkey\",\n",
    "        \"Population\" : \"15,029,231\",\n",
    "        \"Fact\" : \"It is the fourth largest city in the world\"\n",
    "    },\n",
    "    \"karachi\" : {\n",
    "        \"Country\" : \"Pakistan\",\n",
    "        \"Population\" : \"14,910,352\",\n",
    "        \"Fact\" : \"it is the fifth largest city in the world and known as city of lights\"\n",
    "    }\n",
    "}\n",
    "\n",
    "\n",
    "\n",
    "for city, city_info in cities.items():\n",
    "    print(\"\\nCity: \" + city.upper())\n",
    "    country = city_info['Country']\n",
    "    pop = city_info['Population']\n",
    "    fact = city_info['Fact']\n",
    "    print(\"\\tCountry: \" + country)\n",
    "    print(\"\\tPopulation: \" + pop)\n",
    "    print(\"\\tFact: \" + fact)"
   ]
  },
  {
   "cell_type": "code",
   "execution_count": 2,
   "metadata": {},
   "outputs": [
    {
     "name": "stdout",
     "output_type": "stream",
     "text": [
      "Welcome to Movie Theater\n",
      "\n",
      "Enter Your Age to get your Ticket: 2\n",
      "Your Ticket is Free\n",
      "\n",
      "Enter Your Age to get your Ticket: 3\n",
      "Your Ticket is Price is 10\n",
      "\n",
      "Enter Your Age to get your Ticket: 12\n",
      "Your Ticket is Price is 10\n",
      "\n",
      "Enter Your Age to get your Ticket: 15\n",
      "Your Ticket is Price is 15\n",
      "\n",
      "Enter Your Age to get your Ticket: q\n",
      "Enjoy your Movie :)\n"
     ]
    }
   ],
   "source": [
    "\"\"\"Question3: A movie theater charges different ticket prices depending on a person’s age. If a person is under the age \n",
    "of 3, the ticket is free; if they are between 3 and 12, the ticket is 10 and if they are over age 12, the ticket is 15. \n",
    "Write a loop in which you ask users their age, and then tell them the cost of their movie ticket.?\"\"\"\n",
    "\n",
    "\n",
    "print(\"Welcome to Movie Theater\")\n",
    "while True:\n",
    "    age = input(\"\\nEnter Your Age to get your Ticket: \")\n",
    "    if age == 'q':\n",
    "        print(\"Enjoy your Movie :)\")\n",
    "        break\n",
    "    elif int(age) < 3:\n",
    "        print(\"Your Ticket is Free\")\n",
    "    elif int(age) >= 3 and int(age) <= 12:\n",
    "        print(\"Your Ticket is Price is 10\")\n",
    "    elif int(age) > 12:\n",
    "        print(\"Your Ticket is Price is 15\")                \n",
    "    else:\n",
    "        print(\"Invalid Input\")"
   ]
  },
  {
   "cell_type": "code",
   "execution_count": 4,
   "metadata": {},
   "outputs": [
    {
     "name": "stdout",
     "output_type": "stream",
     "text": [
      "One of my favorite books is Alice in Wonderland\n"
     ]
    }
   ],
   "source": [
    "\"\"\"Question4: Write a function called favorite_book() that accepts one parameter, title. The function should print a message,\n",
    "    such as One of my favorite books is Alice in Wonderland. Call the function, making sure to include a book title as an \n",
    "    argument in the function call.?\"\"\"\n",
    "\n",
    "def favorite_book(book_name):\n",
    "    print(\"One of my favorite books is\",book_name)\n",
    "\n",
    "favorite_book(\"Alice in Wonderland\")"
   ]
  },
  {
   "cell_type": "code",
   "execution_count": 5,
   "metadata": {},
   "outputs": [
    {
     "name": "stdout",
     "output_type": "stream",
     "text": [
      "\n",
      "You have 3 chances Remaining\n",
      "Guess a Number between 1 to 30 :3\n",
      "Your guess number is smaller than win number\n",
      "\n",
      "You have 2 chances Remaining\n",
      "Guess a Number between 1 to 30 :4\n",
      "Your guess number is smaller than win number\n",
      "\n",
      "You have 1 chances Remaining\n",
      "Guess a Number between 1 to 30 :7\n",
      "Your guess number is smaller than win number\n",
      "\n",
      "Sorry You Lose, Please Try Again\n"
     ]
    }
   ],
   "source": [
    "\"\"\"Question5: Guess the number game. Write a program which randomly generate a number between 1 to 30 and ask the user in\n",
    "input field to guess the correct number. Give three chances to user guess the number and also give hint to user if hidden\n",
    "number is greater or smaller than the number he given to input field.\"\"\"\n",
    "\n",
    "\n",
    "import random\n",
    "\n",
    "win_number = random.randint(1,30)\n",
    "counter = 0\n",
    "chances = 3\n",
    "\n",
    "for i in range(3):\n",
    "    print(f\"\\nYou have {chances} chances Remaining\")\n",
    "    num = int(input(\"Guess a Number between 1 to 30 :\"))\n",
    "    chances -= 1\n",
    "    \n",
    "    if num == win_number:\n",
    "        counter += 1\n",
    "        print(\"\\nCongratulations, You Guess Correct Number in attempt no: \",counter)\n",
    "        break\n",
    "    \n",
    "    else:\n",
    "        \n",
    "        if num < win_number:\n",
    "            print(\"Your guess number is smaller than win number\")\n",
    "        \n",
    "        else:\n",
    "            print(\"Your guess number is greater than win number\")\n",
    "        \n",
    "        counter += 1\n",
    "        if counter == 3:\n",
    "            print(\"\\nSorry You Lose, Please Try Again\")"
   ]
  },
  {
   "cell_type": "code",
   "execution_count": null,
   "metadata": {},
   "outputs": [],
   "source": []
  }
 ],
 "metadata": {
  "kernelspec": {
   "display_name": "Python 3",
   "language": "python",
   "name": "python3"
  },
  "language_info": {
   "codemirror_mode": {
    "name": "ipython",
    "version": 3
   },
   "file_extension": ".py",
   "mimetype": "text/x-python",
   "name": "python",
   "nbconvert_exporter": "python",
   "pygments_lexer": "ipython3",
   "version": "3.7.4"
  }
 },
 "nbformat": 4,
 "nbformat_minor": 2
}
